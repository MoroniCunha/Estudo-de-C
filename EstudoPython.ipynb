{
  "nbformat": 4,
  "nbformat_minor": 0,
  "metadata": {
    "colab": {
      "provenance": [],
      "authorship_tag": "ABX9TyPZYQmKz3k+k8TeJ9ScQI/m",
      "include_colab_link": true
    },
    "kernelspec": {
      "name": "python3",
      "display_name": "Python 3"
    },
    "language_info": {
      "name": "python"
    }
  },
  "cells": [
    {
      "cell_type": "markdown",
      "metadata": {
        "id": "view-in-github",
        "colab_type": "text"
      },
      "source": [
        "<a href=\"https://colab.research.google.com/github/MoroniCunha/Estudo-de-C/blob/main/EstudoPython.ipynb\" target=\"_parent\"><img src=\"https://colab.research.google.com/assets/colab-badge.svg\" alt=\"Open In Colab\"/></a>"
      ]
    },
    {
      "cell_type": "code",
      "execution_count": 4,
      "metadata": {
        "colab": {
          "base_uri": "https://localhost:8080/"
        },
        "id": "CYD8coY5Dzfu",
        "outputId": "faa5da3a-fa4f-429f-a235-7f4f798d549a"
      },
      "outputs": [
        {
          "output_type": "stream",
          "name": "stdout",
          "text": [
            "Digite uma palavra, e te diremo quantas vogais há nela:Leticia\n",
            "4\n"
          ]
        }
      ],
      "source": [
        "vogais = [\"a\",\"e\",\"i\",\"o\",\"u\"]\n",
        "contavogais = 0\n",
        "palavra = input('Digite uma palavra, e te diremos quantas vogais há nela:')\n",
        "for character in palavra:\n",
        "  if character in vogais:\n",
        "    contavogais +=1\n",
        "print(contavogais)"
      ]
    }
  ]
}